{
 "cells": [
  {
   "cell_type": "markdown",
   "id": "15979d1c-c3aa-4a7b-ab73-d6b6471c118b",
   "metadata": {},
   "source": [
    "Data Science Tools and Ecosystem"
   ]
  },
  {
   "cell_type": "markdown",
   "id": "fc3c5e07-3698-4a91-8ce2-ed64f27cc7b8",
   "metadata": {},
   "source": [
    "In this notebook, Data Science Tools and Ecosystem are summarized."
   ]
  },
  {
   "cell_type": "markdown",
   "id": "ba9fda9e-9489-4c6f-a86b-141a0d575dea",
   "metadata": {},
   "source": [
    "__Objetives:__\n",
    "- Categories of Data Science Tools\n",
    "- Languages of Data Science\n",
    "- Packages, APIS, Data Sets, and Models\n",
    "- Jupyter Notebooks and JupyterLAb"
   ]
  },
  {
   "cell_type": "markdown",
   "id": "74840b5b-2515-4905-abab-68176eb6e0e4",
   "metadata": {},
   "source": [
    "Some languages for Data Scientists are:"
   ]
  },
  {
   "cell_type": "markdown",
   "id": "64c61bc7-b90f-4bb9-ac41-2e96dd4161e1",
   "metadata": {},
   "source": [
    "1. \"R\" language\n",
    "2. Python\n",
    "3. JavaScript\n",
    "4. C++"
   ]
  },
  {
   "cell_type": "markdown",
   "id": "19f95ca5-2847-4b49-880c-07faeda68c4a",
   "metadata": {},
   "source": [
    "Some of the commonly used libraries used by Data Scientists include:"
   ]
  },
  {
   "cell_type": "markdown",
   "id": "0af9a5ad-7b33-4650-88a7-f4798556bd8f",
   "metadata": {},
   "source": [
    "1. MySQL\n",
    "2. IBM Db2\n",
    "3. Microsoft SQL Server"
   ]
  },
  {
   "cell_type": "markdown",
   "id": "1b574fd4-b190-4213-a874-aa17a65d5a41",
   "metadata": {},
   "source": [
    "| Data Science Tools |\n",
    "| --- |\n",
    "| Jupyter Notebooks  |\n",
    "| R Studio  |\n",
    "| GitHub  |"
   ]
  },
  {
   "cell_type": "markdown",
   "id": "3031ef57-d369-4e1d-85dd-9c2acb16002f",
   "metadata": {},
   "source": [
    "### Below are a few examples of evaluating arithmetic expressions in Python."
   ]
  },
  {
   "cell_type": "code",
   "execution_count": 14,
   "id": "891f327e-8ef4-4d4b-99c6-16c32f6c67bc",
   "metadata": {},
   "outputs": [
    {
     "data": {
      "text/plain": [
       "17"
      ]
     },
     "execution_count": 14,
     "metadata": {},
     "output_type": "execute_result"
    }
   ],
   "source": [
    "(3*4)+5"
   ]
  },
  {
   "cell_type": "markdown",
   "id": "2b31c82b-3aaf-4a44-a791-4ef975fa66c5",
   "metadata": {},
   "source": [
    "\"This a simple arithmetic expression to mutiply then add integers\""
   ]
  },
  {
   "cell_type": "markdown",
   "id": "7a293f05-4727-40d2-a757-e08d908aa5da",
   "metadata": {},
   "source": [
    "\"This will convert 200 minutes to hours by diving by 60\""
   ]
  },
  {
   "cell_type": "code",
   "execution_count": 13,
   "id": "dcbfe85e-b22c-47b4-82d1-d70a48212b98",
   "metadata": {},
   "outputs": [
    {
     "data": {
      "text/plain": [
       "3.3333333333333335"
      ]
     },
     "execution_count": 13,
     "metadata": {},
     "output_type": "execute_result"
    }
   ],
   "source": [
    "200 / 60"
   ]
  },
  {
   "cell_type": "markdown",
   "id": "6ae8a0bb-69f8-4996-ac6e-773a49b59298",
   "metadata": {},
   "source": [
    "R= There are 3.3 hours on 200 minutes."
   ]
  },
  {
   "cell_type": "markdown",
   "id": "ad1cf1cb-c0db-4802-a719-51b90b99f2dd",
   "metadata": {},
   "source": [
    "## Author ##\n",
    "Irving Peña Ferreiro"
   ]
  }
 ],
 "metadata": {
  "kernelspec": {
   "display_name": "Python 3 (ipykernel)",
   "language": "python",
   "name": "python3"
  },
  "language_info": {
   "codemirror_mode": {
    "name": "ipython",
    "version": 3
   },
   "file_extension": ".py",
   "mimetype": "text/x-python",
   "name": "python",
   "nbconvert_exporter": "python",
   "pygments_lexer": "ipython3",
   "version": "3.12.3"
  }
 },
 "nbformat": 4,
 "nbformat_minor": 5
}
